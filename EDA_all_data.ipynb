{
 "cells": [
  {
   "cell_type": "markdown",
   "metadata": {
    "id": "2zfVBs40oZeJ"
   },
   "source": [
    "Import libraries"
   ]
  },
  {
   "cell_type": "code",
   "execution_count": 78,
   "metadata": {
    "executionInfo": {
     "elapsed": 1079,
     "status": "ok",
     "timestamp": 1667323052675,
     "user": {
      "displayName": "Yu Huang",
      "userId": "11780177590790345606"
     },
     "user_tz": 300
    },
    "id": "5p7fCSYzoYiB"
   },
   "outputs": [],
   "source": [
    "import numpy as np\n",
    "import math\n",
    "import re\n",
    "import scipy\n",
    "import statsmodels as sm\n",
    "import matplotlib.pyplot as plt\n",
    "import pandas as pd\n",
    "import seaborn as sns\n",
    "import os"
   ]
  },
  {
   "cell_type": "code",
   "execution_count": 3,
   "metadata": {},
   "outputs": [
    {
     "data": {
      "text/plain": [
       "'C:\\\\Users\\\\RegenwetterLab\\\\CS412'"
      ]
     },
     "execution_count": 3,
     "metadata": {},
     "output_type": "execute_result"
    }
   ],
   "source": [
    "os.getcwd()"
   ]
  },
  {
   "cell_type": "markdown",
   "metadata": {
    "id": "wYNiLNHxt6To"
   },
   "source": [
    "# Dataset"
   ]
  },
  {
   "cell_type": "markdown",
   "metadata": {
    "id": "0D3ib3nDNAPi"
   },
   "source": [
    "## Data Preprocessing\n",
    "\n",
    "load 4 sub datasets  (skip date)"
   ]
  },
  {
   "cell_type": "code",
   "execution_count": 4,
   "metadata": {
    "id": "lohGmtIpsTxu"
   },
   "outputs": [],
   "source": [
    "dt1 = pd.read_csv('C:/Users/RegenwetterLab/CS412/DATA/combined_data_1.txt', header = None, names = ['user_id', 'rating'], usecols = [0,1])\n",
    "dt2 = pd.read_csv('C:/Users/RegenwetterLab/CS412/DATA/combined_data_2.txt', header = None, names = ['user_id', 'rating'], usecols = [0,1])\n",
    "dt3 = pd.read_csv('C:/Users/RegenwetterLab/CS412/DATA/combined_data_3.txt', header = None, names = ['user_id', 'rating'], usecols = [0,1])\n",
    "dt4 = pd.read_csv('C:/Users/RegenwetterLab/CS412/DATA/combined_data_4.txt', header = None, names = ['user_id', 'rating'], usecols = [0,1])"
   ]
  },
  {
   "cell_type": "code",
   "execution_count": 5,
   "metadata": {
    "colab": {
     "base_uri": "https://localhost:8080/"
    },
    "executionInfo": {
     "elapsed": 30,
     "status": "ok",
     "timestamp": 1667256514051,
     "user": {
      "displayName": "Yu Huang",
      "userId": "11780177590790345606"
     },
     "user_tz": 300
    },
    "id": "SntuXxyStcI2",
    "outputId": "fc71b166-2055-43c1-d1ec-90b94a1757d4"
   },
   "outputs": [
    {
     "name": "stdout",
     "output_type": "stream",
     "text": [
      "<class 'pandas.core.frame.DataFrame'>\n",
      "Int64Index: 100498277 entries, 0 to 26851925\n",
      "Data columns (total 2 columns):\n",
      " #   Column   Dtype  \n",
      "---  ------   -----  \n",
      " 0   user_id  object \n",
      " 1   rating   float64\n",
      "dtypes: float64(1), object(1)\n",
      "memory usage: 2.2+ GB\n",
      "   user_id  rating\n",
      "0       1:     NaN\n",
      "1  1488844     3.0\n",
      "2   822109     5.0\n",
      "3   885013     4.0\n",
      "4    30878     4.0\n",
      "          user_id  rating\n",
      "26851921  1790158     4.0\n",
      "26851922  1608708     3.0\n",
      "26851923   234275     1.0\n",
      "26851924   255278     4.0\n",
      "26851925   453585     2.0\n"
     ]
    }
   ],
   "source": [
    "dt_all = pd.concat([dt1, dt2, dt3, dt4])\n",
    "dt_all.info()\n",
    "print(dt_all.head())\n",
    "print(dt_all.tail())"
   ]
  },
  {
   "cell_type": "code",
   "execution_count": 6,
   "metadata": {},
   "outputs": [],
   "source": [
    "dt_all = dt_all.reset_index(drop = True)"
   ]
  },
  {
   "cell_type": "code",
   "execution_count": 7,
   "metadata": {},
   "outputs": [
    {
     "data": {
      "text/html": [
       "<div>\n",
       "<style scoped>\n",
       "    .dataframe tbody tr th:only-of-type {\n",
       "        vertical-align: middle;\n",
       "    }\n",
       "\n",
       "    .dataframe tbody tr th {\n",
       "        vertical-align: top;\n",
       "    }\n",
       "\n",
       "    .dataframe thead th {\n",
       "        text-align: right;\n",
       "    }\n",
       "</style>\n",
       "<table border=\"1\" class=\"dataframe\">\n",
       "  <thead>\n",
       "    <tr style=\"text-align: right;\">\n",
       "      <th></th>\n",
       "      <th>user_id</th>\n",
       "      <th>rating</th>\n",
       "    </tr>\n",
       "  </thead>\n",
       "  <tbody>\n",
       "    <tr>\n",
       "      <th>100498272</th>\n",
       "      <td>1790158</td>\n",
       "      <td>4.0</td>\n",
       "    </tr>\n",
       "    <tr>\n",
       "      <th>100498273</th>\n",
       "      <td>1608708</td>\n",
       "      <td>3.0</td>\n",
       "    </tr>\n",
       "    <tr>\n",
       "      <th>100498274</th>\n",
       "      <td>234275</td>\n",
       "      <td>1.0</td>\n",
       "    </tr>\n",
       "    <tr>\n",
       "      <th>100498275</th>\n",
       "      <td>255278</td>\n",
       "      <td>4.0</td>\n",
       "    </tr>\n",
       "    <tr>\n",
       "      <th>100498276</th>\n",
       "      <td>453585</td>\n",
       "      <td>2.0</td>\n",
       "    </tr>\n",
       "  </tbody>\n",
       "</table>\n",
       "</div>"
      ],
      "text/plain": [
       "           user_id  rating\n",
       "100498272  1790158     4.0\n",
       "100498273  1608708     3.0\n",
       "100498274   234275     1.0\n",
       "100498275   255278     4.0\n",
       "100498276   453585     2.0"
      ]
     },
     "execution_count": 7,
     "metadata": {},
     "output_type": "execute_result"
    }
   ],
   "source": [
    "dt_all.tail()"
   ]
  },
  {
   "cell_type": "code",
   "execution_count": 8,
   "metadata": {},
   "outputs": [
    {
     "name": "stdout",
     "output_type": "stream",
     "text": [
      "<class 'pandas.core.frame.DataFrame'>\n",
      "RangeIndex: 100498277 entries, 0 to 100498276\n",
      "Data columns (total 2 columns):\n",
      " #   Column   Dtype  \n",
      "---  ------   -----  \n",
      " 0   user_id  object \n",
      " 1   rating   float64\n",
      "dtypes: float64(1), object(1)\n",
      "memory usage: 1.5+ GB\n"
     ]
    }
   ],
   "source": [
    "dt_all.info()"
   ]
  },
  {
   "cell_type": "markdown",
   "metadata": {
    "id": "6Od1o3CbzBZ1"
   },
   "source": [
    "Preprocess data by extracting movies and adding a new column \"movie_id\""
   ]
  },
  {
   "cell_type": "code",
   "execution_count": 9,
   "metadata": {
    "colab": {
     "base_uri": "https://localhost:8080/",
     "height": 363
    },
    "executionInfo": {
     "elapsed": 266,
     "status": "ok",
     "timestamp": 1667256514400,
     "user": {
      "displayName": "Yu Huang",
      "userId": "11780177590790345606"
     },
     "user_tz": 300
    },
    "id": "nr-L1FgXSqs6",
    "outputId": "876a533b-8056-4592-b494-54aefcba3e36"
   },
   "outputs": [
    {
     "data": {
      "text/html": [
       "<div>\n",
       "<style scoped>\n",
       "    .dataframe tbody tr th:only-of-type {\n",
       "        vertical-align: middle;\n",
       "    }\n",
       "\n",
       "    .dataframe tbody tr th {\n",
       "        vertical-align: top;\n",
       "    }\n",
       "\n",
       "    .dataframe thead th {\n",
       "        text-align: right;\n",
       "    }\n",
       "</style>\n",
       "<table border=\"1\" class=\"dataframe\">\n",
       "  <thead>\n",
       "    <tr style=\"text-align: right;\">\n",
       "      <th></th>\n",
       "      <th>dt_all_index</th>\n",
       "      <th>movie_id</th>\n",
       "    </tr>\n",
       "  </thead>\n",
       "  <tbody>\n",
       "    <tr>\n",
       "      <th>0</th>\n",
       "      <td>0</td>\n",
       "      <td>1</td>\n",
       "    </tr>\n",
       "    <tr>\n",
       "      <th>1</th>\n",
       "      <td>548</td>\n",
       "      <td>2</td>\n",
       "    </tr>\n",
       "    <tr>\n",
       "      <th>2</th>\n",
       "      <td>694</td>\n",
       "      <td>3</td>\n",
       "    </tr>\n",
       "    <tr>\n",
       "      <th>3</th>\n",
       "      <td>2707</td>\n",
       "      <td>4</td>\n",
       "    </tr>\n",
       "    <tr>\n",
       "      <th>4</th>\n",
       "      <td>2850</td>\n",
       "      <td>5</td>\n",
       "    </tr>\n",
       "    <tr>\n",
       "      <th>5</th>\n",
       "      <td>3991</td>\n",
       "      <td>6</td>\n",
       "    </tr>\n",
       "    <tr>\n",
       "      <th>6</th>\n",
       "      <td>5011</td>\n",
       "      <td>7</td>\n",
       "    </tr>\n",
       "    <tr>\n",
       "      <th>7</th>\n",
       "      <td>5105</td>\n",
       "      <td>8</td>\n",
       "    </tr>\n",
       "    <tr>\n",
       "      <th>8</th>\n",
       "      <td>20016</td>\n",
       "      <td>9</td>\n",
       "    </tr>\n",
       "    <tr>\n",
       "      <th>9</th>\n",
       "      <td>20112</td>\n",
       "      <td>10</td>\n",
       "    </tr>\n",
       "  </tbody>\n",
       "</table>\n",
       "</div>"
      ],
      "text/plain": [
       "   dt_all_index movie_id\n",
       "0             0        1\n",
       "1           548        2\n",
       "2           694        3\n",
       "3          2707        4\n",
       "4          2850        5\n",
       "5          3991        6\n",
       "6          5011        7\n",
       "7          5105        8\n",
       "8         20016        9\n",
       "9         20112       10"
      ]
     },
     "execution_count": 9,
     "metadata": {},
     "output_type": "execute_result"
    }
   ],
   "source": [
    "movies = dt_all[dt_all['rating'].isna()]['user_id']\n",
    "movies = movies.str.strip(':')\n",
    "movies = movies.to_frame().reset_index()\n",
    "movies.columns = ['dt_all_index', 'movie_id']\n",
    "movies.head(n=10)"
   ]
  },
  {
   "cell_type": "code",
   "execution_count": 10,
   "metadata": {
    "colab": {
     "base_uri": "https://localhost:8080/"
    },
    "executionInfo": {
     "elapsed": 9,
     "status": "ok",
     "timestamp": 1667256514401,
     "user": {
      "displayName": "Yu Huang",
      "userId": "11780177590790345606"
     },
     "user_tz": 300
    },
    "id": "DgGN5JsJzpjF",
    "outputId": "11361549-7ab9-4e3a-ab37-46bb1632b37c"
   },
   "outputs": [
    {
     "name": "stdout",
     "output_type": "stream",
     "text": [
      "<class 'pandas.core.frame.DataFrame'>\n",
      "RangeIndex: 17770 entries, 0 to 17769\n",
      "Data columns (total 2 columns):\n",
      " #   Column        Non-Null Count  Dtype \n",
      "---  ------        --------------  ----- \n",
      " 0   dt_all_index  17770 non-null  int64 \n",
      " 1   movie_id      17770 non-null  object\n",
      "dtypes: int64(1), object(1)\n",
      "memory usage: 277.8+ KB\n"
     ]
    }
   ],
   "source": [
    "movies.info()"
   ]
  },
  {
   "cell_type": "code",
   "execution_count": 11,
   "metadata": {
    "id": "rPHa7lwBq3wG"
   },
   "outputs": [],
   "source": [
    "user_data = []\n",
    "mid = movies['movie_id']\n",
    "k = 0\n",
    "for idx1,idx2 in zip(movies['dt_all_index'][0:], movies['dt_all_index'][1:]):\n",
    "    temp = dt_all.loc[idx1+1:idx2-1].copy()\n",
    "    temp['movie_id'] = mid[k]\n",
    "    user_data.append(temp)\n",
    "    k = k+1"
   ]
  },
  {
   "cell_type": "code",
   "execution_count": 12,
   "metadata": {
    "id": "36Sf4v6o_U3Y"
   },
   "outputs": [],
   "source": [
    "# last movie\n",
    "last_idx = movies.iloc[-1,0]\n",
    "last_movie = movies.iloc[-1,1]\n",
    "last_recod = dt_all.loc[last_idx+1:].copy()\n",
    "last_recod['movie_id'] = last_movie\n",
    "user_data.append(last_recod)"
   ]
  },
  {
   "cell_type": "code",
   "execution_count": 13,
   "metadata": {
    "colab": {
     "base_uri": "https://localhost:8080/"
    },
    "executionInfo": {
     "elapsed": 2828,
     "status": "ok",
     "timestamp": 1667256520522,
     "user": {
      "displayName": "Yu Huang",
      "userId": "11780177590790345606"
     },
     "user_tz": 300
    },
    "id": "ZCyoDd6Wvsck",
    "outputId": "d6ec7b1e-b267-46f0-af9c-87c755d0cbd6"
   },
   "outputs": [
    {
     "name": "stdout",
     "output_type": "stream",
     "text": [
      "<class 'pandas.core.frame.DataFrame'>\n",
      "Int64Index: 100480507 entries, 1 to 100498276\n",
      "Data columns (total 3 columns):\n",
      " #   Column    Dtype  \n",
      "---  ------    -----  \n",
      " 0   user_id   object \n",
      " 1   rating    float64\n",
      " 2   movie_id  object \n",
      "dtypes: float64(1), object(2)\n",
      "memory usage: 3.0+ GB\n",
      "   user_id  rating movie_id\n",
      "1  1488844     3.0        1\n",
      "2   822109     5.0        1\n",
      "3   885013     4.0        1\n",
      "4    30878     4.0        1\n",
      "5   823519     3.0        1\n",
      "           user_id  rating movie_id\n",
      "100498272  1790158     4.0    17770\n",
      "100498273  1608708     3.0    17770\n",
      "100498274   234275     1.0    17770\n",
      "100498275   255278     4.0    17770\n",
      "100498276   453585     2.0    17770\n"
     ]
    }
   ],
   "source": [
    "df = pd.concat(user_data)\n",
    "df.info()\n",
    "print(df.head())\n",
    "print(df.tail())"
   ]
  },
  {
   "cell_type": "code",
   "execution_count": 14,
   "metadata": {
    "colab": {
     "base_uri": "https://localhost:8080/"
    },
    "executionInfo": {
     "elapsed": 2429,
     "status": "ok",
     "timestamp": 1667256522948,
     "user": {
      "displayName": "Yu Huang",
      "userId": "11780177590790345606"
     },
     "user_tz": 300
    },
    "id": "K1nYsa47B1tG",
    "outputId": "cfdce4fd-0b41-48dc-f99d-c563c3d6fbfc"
   },
   "outputs": [
    {
     "name": "stdout",
     "output_type": "stream",
     "text": [
      "<class 'pandas.core.frame.DataFrame'>\n",
      "RangeIndex: 100480507 entries, 0 to 100480506\n",
      "Data columns (total 3 columns):\n",
      " #   Column    Dtype  \n",
      "---  ------    -----  \n",
      " 0   user_id   object \n",
      " 1   rating    float64\n",
      " 2   movie_id  object \n",
      "dtypes: float64(1), object(2)\n",
      "memory usage: 2.2+ GB\n"
     ]
    }
   ],
   "source": [
    "# reset index\n",
    "df = df.reset_index(drop=True)\n",
    "df.info()"
   ]
  },
  {
   "cell_type": "code",
   "execution_count": 15,
   "metadata": {
    "id": "2O2C065XDyrM"
   },
   "outputs": [],
   "source": [
    "# delete objects no longer needed to save memory\n",
    "del user_data, dt1, dt2, dt3, dt4, dt_all, temp"
   ]
  },
  {
   "cell_type": "markdown",
   "metadata": {
    "id": "nJm4hp4YE9Dj"
   },
   "source": [
    "## EDA\n",
    "### Distribution of ratings\n"
   ]
  },
  {
   "cell_type": "code",
   "execution_count": 16,
   "metadata": {
    "colab": {
     "base_uri": "https://localhost:8080/",
     "height": 276
    },
    "executionInfo": {
     "elapsed": 650,
     "status": "ok",
     "timestamp": 1667256591966,
     "user": {
      "displayName": "Yu Huang",
      "userId": "11780177590790345606"
     },
     "user_tz": 300
    },
    "id": "zjpnrZFmJi57",
    "outputId": "db9202a3-43f6-44ff-e672-b926ce4534ff"
   },
   "outputs": [
    {
     "data": {
      "image/png": "[encoded data removed]",
      "text/plain": [
       "<Figure size 432x288 with 1 Axes>"
      ]
     },
     "metadata": {
      "needs_background": "light"
     },
     "output_type": "display_data"
    }
   ],
   "source": [
    "from locale import normalize\n",
    "rating_counts = df['rating'].value_counts().sort_index()\n",
    "rating_props = df['rating'].value_counts(normalize=True).sort_index()\n",
    "fig, axes = plt.subplots()\n",
    "bars = axes.bar(x = rating_counts.index, height = rating_counts.values)\n",
    "for i, bar in enumerate(bars):\n",
    "  height = bar.get_height()\n",
    "  axes.text(x = bar.get_x() + bar.get_width()/2,\n",
    "            y = height+10000,\n",
    "            s = \"{:.2f}%\".format(rating_props.iloc[i] * 100),\n",
    "            ha = 'center')\n",
    "plt.show()"
   ]
  },
  {
   "cell_type": "markdown",
   "metadata": {
    "id": "jeBLR21rJaGM"
   },
   "source": [
    "The distribution of ratings is left skewed. Fewer low ratings (1 and 2 stars) and most ratings (>60%) are 3 and 4 stars."
   ]
  },
  {
   "cell_type": "markdown",
   "metadata": {
    "id": "q_RQKfqQJ6gS"
   },
   "source": [
    "### Distribution of number of ratings each user gave"
   ]
  },
  {
   "cell_type": "code",
   "execution_count": 17,
   "metadata": {
    "id": "NobVT8PaKjcf"
   },
   "outputs": [],
   "source": [
    "users_by_rating_cnt = df.groupby('user_id').count()['movie_id'].reset_index()"
   ]
  },
  {
   "cell_type": "code",
   "execution_count": 18,
   "metadata": {},
   "outputs": [
    {
     "data": {
      "text/plain": [
       "(480189, 2)"
      ]
     },
     "execution_count": 18,
     "metadata": {},
     "output_type": "execute_result"
    }
   ],
   "source": [
    "users_by_rating_cnt.shape"
   ]
  },
  {
   "cell_type": "code",
   "execution_count": 19,
   "metadata": {
    "id": "W-M4FCoBMbVD"
   },
   "outputs": [],
   "source": [
    "users_by_rating_cnt.rename(columns = {\"movie_id\": \"rating_count\"}, inplace=True)"
   ]
  },
  {
   "cell_type": "code",
   "execution_count": 20,
   "metadata": {
    "colab": {
     "base_uri": "https://localhost:8080/",
     "height": 424
    },
    "executionInfo": {
     "elapsed": 317,
     "status": "ok",
     "timestamp": 1667256662288,
     "user": {
      "displayName": "Yu Huang",
      "userId": "11780177590790345606"
     },
     "user_tz": 300
    },
    "id": "VMub-7GpNAGy",
    "outputId": "56e96072-008b-4d30-c33d-9e66d81cb9ba"
   },
   "outputs": [
    {
     "data": {
      "text/html": [
       "<div>\n",
       "<style scoped>\n",
       "    .dataframe tbody tr th:only-of-type {\n",
       "        vertical-align: middle;\n",
       "    }\n",
       "\n",
       "    .dataframe tbody tr th {\n",
       "        vertical-align: top;\n",
       "    }\n",
       "\n",
       "    .dataframe thead th {\n",
       "        text-align: right;\n",
       "    }\n",
       "</style>\n",
       "<table border=\"1\" class=\"dataframe\">\n",
       "  <thead>\n",
       "    <tr style=\"text-align: right;\">\n",
       "      <th></th>\n",
       "      <th>user_id</th>\n",
       "      <th>rating_count</th>\n",
       "    </tr>\n",
       "  </thead>\n",
       "  <tbody>\n",
       "    <tr>\n",
       "      <th>339650</th>\n",
       "      <td>305344</td>\n",
       "      <td>17653</td>\n",
       "    </tr>\n",
       "    <tr>\n",
       "      <th>356403</th>\n",
       "      <td>387418</td>\n",
       "      <td>17436</td>\n",
       "    </tr>\n",
       "    <tr>\n",
       "      <th>289238</th>\n",
       "      <td>2439493</td>\n",
       "      <td>16565</td>\n",
       "    </tr>\n",
       "    <tr>\n",
       "      <th>133319</th>\n",
       "      <td>1664010</td>\n",
       "      <td>15813</td>\n",
       "    </tr>\n",
       "    <tr>\n",
       "      <th>224670</th>\n",
       "      <td>2118461</td>\n",
       "      <td>14831</td>\n",
       "    </tr>\n",
       "    <tr>\n",
       "      <th>...</th>\n",
       "      <td>...</td>\n",
       "      <td>...</td>\n",
       "    </tr>\n",
       "    <tr>\n",
       "      <th>112487</th>\n",
       "      <td>1560179</td>\n",
       "      <td>1</td>\n",
       "    </tr>\n",
       "    <tr>\n",
       "      <th>346551</th>\n",
       "      <td>339212</td>\n",
       "      <td>1</td>\n",
       "    </tr>\n",
       "    <tr>\n",
       "      <th>68746</th>\n",
       "      <td>134227</td>\n",
       "      <td>1</td>\n",
       "    </tr>\n",
       "    <tr>\n",
       "      <th>49267</th>\n",
       "      <td>1245917</td>\n",
       "      <td>1</td>\n",
       "    </tr>\n",
       "    <tr>\n",
       "      <th>7761</th>\n",
       "      <td>103906</td>\n",
       "      <td>1</td>\n",
       "    </tr>\n",
       "  </tbody>\n",
       "</table>\n",
       "<p>480189 rows × 2 columns</p>\n",
       "</div>"
      ],
      "text/plain": [
       "        user_id  rating_count\n",
       "339650   305344         17653\n",
       "356403   387418         17436\n",
       "289238  2439493         16565\n",
       "133319  1664010         15813\n",
       "224670  2118461         14831\n",
       "...         ...           ...\n",
       "112487  1560179             1\n",
       "346551   339212             1\n",
       "68746    134227             1\n",
       "49267   1245917             1\n",
       "7761     103906             1\n",
       "\n",
       "[480189 rows x 2 columns]"
      ]
     },
     "execution_count": 20,
     "metadata": {},
     "output_type": "execute_result"
    }
   ],
   "source": [
    "users_by_rating_cnt.sort_values(by = ['rating_count'], ascending=False)"
   ]
  },
  {
   "cell_type": "markdown",
   "metadata": {
    "id": "MER11gPDUFRR"
   },
   "source": [
    "The min number of ratings each user gave is 1, while the max can reach 17653."
   ]
  },
  {
   "cell_type": "code",
   "execution_count": 21,
   "metadata": {
    "colab": {
     "base_uri": "https://localhost:8080/"
    },
    "executionInfo": {
     "elapsed": 91,
     "status": "ok",
     "timestamp": 1667257307308,
     "user": {
      "displayName": "Yu Huang",
      "userId": "11780177590790345606"
     },
     "user_tz": 300
    },
    "id": "Q2aSzydXPljO",
    "outputId": "a566dd30-b540-49fd-bf4e-3175e512e3ee"
   },
   "outputs": [
    {
     "data": {
      "text/plain": [
       "rating_count\n",
       "1        0.002643\n",
       "2        0.004636\n",
       "3        0.004109\n",
       "4        0.003611\n",
       "5        0.003555\n",
       "           ...   \n",
       "14831    0.000002\n",
       "15813    0.000002\n",
       "16565    0.000002\n",
       "17436    0.000002\n",
       "17653    0.000002\n",
       "Length: 2782, dtype: float64"
      ]
     },
     "execution_count": 21,
     "metadata": {},
     "output_type": "execute_result"
    }
   ],
   "source": [
    "user_rating_cnt_props = users_by_rating_cnt.value_counts('rating_count', normalize=True).sort_index()\n",
    "user_rating_cnt_props"
   ]
  },
  {
   "cell_type": "code",
   "execution_count": 22,
   "metadata": {},
   "outputs": [
    {
     "data": {
      "text/plain": [
       "rating_count\n",
       "18    0.008372\n",
       "23    0.008309\n",
       "20    0.008280\n",
       "21    0.008251\n",
       "17    0.008159\n",
       "19    0.008113\n",
       "16    0.008101\n",
       "26    0.008059\n",
       "15    0.008057\n",
       "24    0.008041\n",
       "22    0.007997\n",
       "25    0.007993\n",
       "27    0.007878\n",
       "28    0.007707\n",
       "32    0.007651\n",
       "29    0.007520\n",
       "30    0.007489\n",
       "31    0.007289\n",
       "14    0.007274\n",
       "33    0.007203\n",
       "dtype: float64"
      ]
     },
     "execution_count": 22,
     "metadata": {},
     "output_type": "execute_result"
    }
   ],
   "source": [
    "user_rating_cnt_props.sort_values(ascending = False).head(n=20)"
   ]
  },
  {
   "cell_type": "code",
   "execution_count": 23,
   "metadata": {
    "colab": {
     "base_uri": "https://localhost:8080/",
     "height": 265
    },
    "executionInfo": {
     "elapsed": 2316,
     "status": "ok",
     "timestamp": 1667259182900,
     "user": {
      "displayName": "Yu Huang",
      "userId": "11780177590790345606"
     },
     "user_tz": 300
    },
    "id": "kKyAecBXNh0p",
    "outputId": "ee81a900-18ca-4d42-8c76-ed1d8e193e1f"
   },
   "outputs": [
    {
     "data": {
      "image/png": "[encoded data removed]",
      "text/plain": [
       "<Figure size 432x288 with 1 Axes>"
      ]
     },
     "metadata": {
      "needs_background": "light"
     },
     "output_type": "display_data"
    }
   ],
   "source": [
    "fig, axes2 = plt.subplots()\n",
    "bars = axes2.bar(x = user_rating_cnt_props.index, height = user_rating_cnt_props.values)\n",
    "plt.show()"
   ]
  },
  {
   "cell_type": "markdown",
   "metadata": {
    "id": "TNlh8eQATMg7"
   },
   "source": [
    "The distribution of the number of ratings per user is extremely right skewed. There is a prominent exponential decay of frequency/proportion as the number of ratings increases. Let's put limits on the x-axis, the number of ratings per user, to more easily visualize the trend."
   ]
  },
  {
   "cell_type": "code",
   "execution_count": 24,
   "metadata": {
    "colab": {
     "base_uri": "https://localhost:8080/",
     "height": 621
    },
    "executionInfo": {
     "elapsed": 2436,
     "status": "ok",
     "timestamp": 1667259578509,
     "user": {
      "displayName": "Yu Huang",
      "userId": "11780177590790345606"
     },
     "user_tz": 300
    },
    "id": "LpCz4BhSTCU0",
    "outputId": "3c49aeec-dda5-4c99-837d-75d255d22e40"
   },
   "outputs": [
    {
     "data": {
      "image/png": "[encoded data removed]",
      "text/plain": [
       "<Figure size 1440x720 with 1 Axes>"
      ]
     },
     "metadata": {
      "needs_background": "light"
     },
     "output_type": "display_data"
    }
   ],
   "source": [
    "fig, axes3 = plt.subplots(figsize=(20,10))\n",
    "axes3.bar(x = user_rating_cnt_props.index,\n",
    "          height = user_rating_cnt_props.values)\n",
    "axes3.set_xlim(left = 0, right = 200)\n",
    "axes3.set_xlabel(\"ratings per user\")\n",
    "axes3.set_ylabel(\"proportion\")\n",
    "axes3.set_title(\"Distribution of Ratings Per User (0 - 200)\")\n",
    "plt.show()"
   ]
  },
  {
   "cell_type": "code",
   "execution_count": 25,
   "metadata": {},
   "outputs": [
    {
     "data": {
      "image/png": "[encoded data removed]",
      "text/plain": [
       "<Figure size 1440x720 with 1 Axes>"
      ]
     },
     "metadata": {
      "needs_background": "light"
     },
     "output_type": "display_data"
    }
   ],
   "source": [
    "fig, axes4 = plt.subplots(figsize=(20,10))\n",
    "axes4.bar(x = user_rating_cnt_props.index,\n",
    "          height = user_rating_cnt_props.values)\n",
    "axes4.set_xlim(left = 200, right = 1000)\n",
    "axes4.set_xlabel(\"ratings per user\")\n",
    "axes4.set_ylabel(\"proportion\")\n",
    "axes4.set_title(\"Distribution of Ratings Per User (200 to 1000)\")\n",
    "plt.show()"
   ]
  },
  {
   "cell_type": "markdown",
   "metadata": {
    "id": "UW_OP9V5anrA"
   },
   "source": [
    "The number of ratings given by each user peaks from 14 to 32. Most users gave few ratings (<50) and few gave many. "
   ]
  },
  {
   "cell_type": "markdown",
   "metadata": {
    "id": "J5aWGvJJblQ1"
   },
   "source": [
    "### Distribution of number of ratings each movie received"
   ]
  },
  {
   "cell_type": "code",
   "execution_count": 26,
   "metadata": {
    "id": "LDNUbGkJb1tp"
   },
   "outputs": [],
   "source": [
    "movies_by_rating_cnt = df.groupby('movie_id').count()['user_id'].reset_index()"
   ]
  },
  {
   "cell_type": "code",
   "execution_count": 27,
   "metadata": {
    "id": "L4Z8DD02cVX4"
   },
   "outputs": [],
   "source": [
    "movies_by_rating_cnt.rename(columns = {\"user_id\": \"rating_count\"}, inplace=True)"
   ]
  },
  {
   "cell_type": "code",
   "execution_count": 28,
   "metadata": {
    "colab": {
     "base_uri": "https://localhost:8080/",
     "height": 424
    },
    "executionInfo": {
     "elapsed": 133,
     "status": "ok",
     "timestamp": 1667260160122,
     "user": {
      "displayName": "Yu Huang",
      "userId": "11780177590790345606"
     },
     "user_tz": 300
    },
    "id": "oucdLtptcmVt",
    "outputId": "b2ddbd01-5de3-4628-ac84-8d4349b34264"
   },
   "outputs": [
    {
     "data": {
      "text/html": [
       "<div>\n",
       "<style scoped>\n",
       "    .dataframe tbody tr th:only-of-type {\n",
       "        vertical-align: middle;\n",
       "    }\n",
       "\n",
       "    .dataframe tbody tr th {\n",
       "        vertical-align: top;\n",
       "    }\n",
       "\n",
       "    .dataframe thead th {\n",
       "        text-align: right;\n",
       "    }\n",
       "</style>\n",
       "<table border=\"1\" class=\"dataframe\">\n",
       "  <thead>\n",
       "    <tr style=\"text-align: right;\">\n",
       "      <th></th>\n",
       "      <th>movie_id</th>\n",
       "      <th>rating_count</th>\n",
       "    </tr>\n",
       "  </thead>\n",
       "  <tbody>\n",
       "    <tr>\n",
       "      <th>12569</th>\n",
       "      <td>5317</td>\n",
       "      <td>232944</td>\n",
       "    </tr>\n",
       "    <tr>\n",
       "      <th>5696</th>\n",
       "      <td>15124</td>\n",
       "      <td>216596</td>\n",
       "    </tr>\n",
       "    <tr>\n",
       "      <th>4795</th>\n",
       "      <td>14313</td>\n",
       "      <td>200832</td>\n",
       "    </tr>\n",
       "    <tr>\n",
       "      <th>5786</th>\n",
       "      <td>15205</td>\n",
       "      <td>196397</td>\n",
       "    </tr>\n",
       "    <tr>\n",
       "      <th>8778</th>\n",
       "      <td>1905</td>\n",
       "      <td>193941</td>\n",
       "    </tr>\n",
       "    <tr>\n",
       "      <th>...</th>\n",
       "      <td>...</td>\n",
       "      <td>...</td>\n",
       "    </tr>\n",
       "    <tr>\n",
       "      <th>12001</th>\n",
       "      <td>4806</td>\n",
       "      <td>13</td>\n",
       "    </tr>\n",
       "    <tr>\n",
       "      <th>13612</th>\n",
       "      <td>6256</td>\n",
       "      <td>10</td>\n",
       "    </tr>\n",
       "    <tr>\n",
       "      <th>1496</th>\n",
       "      <td>11344</td>\n",
       "      <td>10</td>\n",
       "    </tr>\n",
       "    <tr>\n",
       "      <th>1278</th>\n",
       "      <td>11148</td>\n",
       "      <td>5</td>\n",
       "    </tr>\n",
       "    <tr>\n",
       "      <th>4174</th>\n",
       "      <td>13755</td>\n",
       "      <td>3</td>\n",
       "    </tr>\n",
       "  </tbody>\n",
       "</table>\n",
       "<p>17770 rows × 2 columns</p>\n",
       "</div>"
      ],
      "text/plain": [
       "      movie_id  rating_count\n",
       "12569     5317        232944\n",
       "5696     15124        216596\n",
       "4795     14313        200832\n",
       "5786     15205        196397\n",
       "8778      1905        193941\n",
       "...        ...           ...\n",
       "12001     4806            13\n",
       "13612     6256            10\n",
       "1496     11344            10\n",
       "1278     11148             5\n",
       "4174     13755             3\n",
       "\n",
       "[17770 rows x 2 columns]"
      ]
     },
     "execution_count": 28,
     "metadata": {},
     "output_type": "execute_result"
    }
   ],
   "source": [
    "movies_by_rating_cnt.sort_values('rating_count', ascending=False)"
   ]
  },
  {
   "cell_type": "markdown",
   "metadata": {
    "id": "hjRz2PIaUani"
   },
   "source": [
    "The number of ratings each movie received varies tremendously from 3 to 232944."
   ]
  },
  {
   "cell_type": "code",
   "execution_count": 29,
   "metadata": {
    "colab": {
     "base_uri": "https://localhost:8080/",
     "height": 642
    },
    "executionInfo": {
     "elapsed": 528,
     "status": "ok",
     "timestamp": 1667272811009,
     "user": {
      "displayName": "Yu Huang",
      "userId": "11780177590790345606"
     },
     "user_tz": 300
    },
    "id": "0PG6taJIMHmz",
    "outputId": "84153738-bd9a-4318-c4db-625138d16161"
   },
   "outputs": [
    {
     "data": {
      "text/plain": [
       "array([[<AxesSubplot:title={'center':'rating_count'}>]], dtype=object)"
      ]
     },
     "execution_count": 29,
     "metadata": {},
     "output_type": "execute_result"
    },
    {
     "data": {
      "image/png": "[encoded data removed]",
      "text/plain": [
       "<Figure size 1440x720 with 1 Axes>"
      ]
     },
     "metadata": {
      "needs_background": "light"
     },
     "output_type": "display_data"
    }
   ],
   "source": [
    "movies_by_rating_cnt.hist(column = 'rating_count', figsize = (20,10))"
   ]
  },
  {
   "cell_type": "markdown",
   "metadata": {
    "id": "92sTExv3NGxe"
   },
   "source": [
    "The distribution of the number of ratings each movie received is excessively right-skewed as well. The majority of movies received less than 25000 ratings. Let's get a more detailed picture of the trend using narrower bins (bin width = 100) for smaller values of x (0-10000) and wider bins (bin width = 1000) for larger values of x (10001-240000).\n"
   ]
  },
  {
   "cell_type": "code",
   "execution_count": 30,
   "metadata": {
    "colab": {
     "base_uri": "https://localhost:8080/",
     "height": 621
    },
    "executionInfo": {
     "elapsed": 578,
     "status": "ok",
     "timestamp": 1667275890110,
     "user": {
      "displayName": "Yu Huang",
      "userId": "11780177590790345606"
     },
     "user_tz": 300
    },
    "id": "32NaT2p8PKPD",
    "outputId": "1f6bb79f-1ab8-4f1c-8418-677933d701a2"
   },
   "outputs": [
    {
     "data": {
      "image/png": "[encoded data removed]",
      "text/plain": [
       "<Figure size 1440x720 with 1 Axes>"
      ]
     },
     "metadata": {
      "needs_background": "light"
     },
     "output_type": "display_data"
    }
   ],
   "source": [
    "movies_by_rating_cnt.hist(column = 'rating_count', figsize = (20,10), bins = range(0,10000,100))\n",
    "plt.xlabel(\"ratings per movie\")\n",
    "plt.ylabel(\"count\")\n",
    "plt.title(\"Distribution of Ratings Per Movie (0-10000 with bin width = 100)\")\n",
    "plt.show()"
   ]
  },
  {
   "cell_type": "code",
   "execution_count": 31,
   "metadata": {
    "colab": {
     "base_uri": "https://localhost:8080/",
     "height": 621
    },
    "executionInfo": {
     "elapsed": 836,
     "status": "ok",
     "timestamp": 1667275954646,
     "user": {
      "displayName": "Yu Huang",
      "userId": "11780177590790345606"
     },
     "user_tz": 300
    },
    "id": "_UU1rr-MVq9o",
    "outputId": "747b147a-bc3c-4e8e-8870-eff0f4fd4d03"
   },
   "outputs": [
    {
     "data": {
      "image/png": "[encoded data removed]",
      "text/plain": [
       "<Figure size 1440x720 with 1 Axes>"
      ]
     },
     "metadata": {
      "needs_background": "light"
     },
     "output_type": "display_data"
    }
   ],
   "source": [
    "movies_by_rating_cnt.hist(column = 'rating_count', figsize = (20,10), bins = range(10001,240000,1000))\n",
    "plt.xlabel(\"ratings per movie\")\n",
    "plt.ylabel(\"count\")\n",
    "plt.title(\"Distribution of Ratings Per Movie (10001-240000 with bin width = 1000)\")\n",
    "plt.show()"
   ]
  },
  {
   "cell_type": "markdown",
   "metadata": {
    "id": "I1bxzYvhZVNY"
   },
   "source": [
    "For movies that received fewer ratings (fewer than 10000), the number of ratings per movie peaks at 100-200 ratings, and decays rapidly afterwards. Among movies that received many ratings (over 10000), most received fewer than 21000 ratings.   "
   ]
  },
  {
   "cell_type": "markdown",
   "metadata": {
    "id": "8o8aZsmT9vjI"
   },
   "source": [
    "exploratory analyses to do next:\n",
    "- The rating distributions (mean, variance) of the top 10 most popular (most rated) movies\n",
    "- The rating distribution of movies that received few ratings (<=200)\n",
    "- Distribution of ratings from users who rated few movies (<=50)\n",
    "- Distribution of ratings from users who rated many movies (>=1000)\n",
    "\n",
    "\n",
    "For building a recommendation system, need to do subsampling of the original dataset. Ideas for sampling:\n",
    "1. After merging the 4 subsets of data, randomly sample 50% (or 25%?) of users\n",
    "2. After merging the 4 subsets of data, select movies with many ratings and users who rated many movies.\n"
   ]
  },
  {
   "cell_type": "code",
   "execution_count": 32,
   "metadata": {},
   "outputs": [
    {
     "data": {
      "text/plain": [
       "array(['5317', '15124', '14313', '15205', '1905', '6287', '11283',\n",
       "       '16377', '16242', '12470'], dtype=object)"
      ]
     },
     "execution_count": 32,
     "metadata": {},
     "output_type": "execute_result"
    }
   ],
   "source": [
    "top_10_movies = movies_by_rating_cnt.sort_values('rating_count', ascending=False).head(n=10)['movie_id'].values\n",
    "top_10_movies"
   ]
  },
  {
   "cell_type": "code",
   "execution_count": 61,
   "metadata": {},
   "outputs": [
    {
     "data": {
      "text/html": [
       "<div>\n",
       "<style scoped>\n",
       "    .dataframe tbody tr th:only-of-type {\n",
       "        vertical-align: middle;\n",
       "    }\n",
       "\n",
       "    .dataframe tbody tr th {\n",
       "        vertical-align: top;\n",
       "    }\n",
       "\n",
       "    .dataframe thead th {\n",
       "        text-align: right;\n",
       "    }\n",
       "</style>\n",
       "<table border=\"1\" class=\"dataframe\">\n",
       "  <thead>\n",
       "    <tr style=\"text-align: right;\">\n",
       "      <th></th>\n",
       "      <th>user_id</th>\n",
       "      <th>rating</th>\n",
       "      <th>movie_id</th>\n",
       "    </tr>\n",
       "  </thead>\n",
       "  <tbody>\n",
       "    <tr>\n",
       "      <th>0</th>\n",
       "      <td>1488844</td>\n",
       "      <td>3.0</td>\n",
       "      <td>1</td>\n",
       "    </tr>\n",
       "    <tr>\n",
       "      <th>1</th>\n",
       "      <td>822109</td>\n",
       "      <td>5.0</td>\n",
       "      <td>1</td>\n",
       "    </tr>\n",
       "    <tr>\n",
       "      <th>2</th>\n",
       "      <td>885013</td>\n",
       "      <td>4.0</td>\n",
       "      <td>1</td>\n",
       "    </tr>\n",
       "    <tr>\n",
       "      <th>3</th>\n",
       "      <td>30878</td>\n",
       "      <td>4.0</td>\n",
       "      <td>1</td>\n",
       "    </tr>\n",
       "    <tr>\n",
       "      <th>4</th>\n",
       "      <td>823519</td>\n",
       "      <td>3.0</td>\n",
       "      <td>1</td>\n",
       "    </tr>\n",
       "    <tr>\n",
       "      <th>...</th>\n",
       "      <td>...</td>\n",
       "      <td>...</td>\n",
       "      <td>...</td>\n",
       "    </tr>\n",
       "    <tr>\n",
       "      <th>100480502</th>\n",
       "      <td>1790158</td>\n",
       "      <td>4.0</td>\n",
       "      <td>17770</td>\n",
       "    </tr>\n",
       "    <tr>\n",
       "      <th>100480503</th>\n",
       "      <td>1608708</td>\n",
       "      <td>3.0</td>\n",
       "      <td>17770</td>\n",
       "    </tr>\n",
       "    <tr>\n",
       "      <th>100480504</th>\n",
       "      <td>234275</td>\n",
       "      <td>1.0</td>\n",
       "      <td>17770</td>\n",
       "    </tr>\n",
       "    <tr>\n",
       "      <th>100480505</th>\n",
       "      <td>255278</td>\n",
       "      <td>4.0</td>\n",
       "      <td>17770</td>\n",
       "    </tr>\n",
       "    <tr>\n",
       "      <th>100480506</th>\n",
       "      <td>453585</td>\n",
       "      <td>2.0</td>\n",
       "      <td>17770</td>\n",
       "    </tr>\n",
       "  </tbody>\n",
       "</table>\n",
       "<p>100480507 rows × 3 columns</p>\n",
       "</div>"
      ],
      "text/plain": [
       "           user_id  rating movie_id\n",
       "0          1488844     3.0        1\n",
       "1           822109     5.0        1\n",
       "2           885013     4.0        1\n",
       "3            30878     4.0        1\n",
       "4           823519     3.0        1\n",
       "...            ...     ...      ...\n",
       "100480502  1790158     4.0    17770\n",
       "100480503  1608708     3.0    17770\n",
       "100480504   234275     1.0    17770\n",
       "100480505   255278     4.0    17770\n",
       "100480506   453585     2.0    17770\n",
       "\n",
       "[100480507 rows x 3 columns]"
      ]
     },
     "execution_count": 61,
     "metadata": {},
     "output_type": "execute_result"
    }
   ],
   "source": [
    "df"
   ]
  },
  {
   "cell_type": "code",
   "execution_count": 33,
   "metadata": {},
   "outputs": [],
   "source": [
    "df_top10 = df[df['movie_id'].isin(top_10_movies)]"
   ]
  },
  {
   "cell_type": "code",
   "execution_count": 34,
   "metadata": {},
   "outputs": [
    {
     "name": "stdout",
     "output_type": "stream",
     "text": [
      "(1952563, 3)\n",
      "         user_id  rating movie_id\n",
      "9687179  1046323     4.0     1905\n",
      "9687180  2450541     5.0     1905\n",
      "9687181  2173336     4.0     1905\n",
      "9687182   364518     3.0     1905\n",
      "9687183   716091     3.0     1905\n"
     ]
    }
   ],
   "source": [
    "print(df_top10.shape)\n",
    "print(df_top10.head())"
   ]
  },
  {
   "cell_type": "code",
   "execution_count": 35,
   "metadata": {},
   "outputs": [
    {
     "data": {
      "text/plain": [
       "movie_id\n",
       "11283    4.299910\n",
       "12470    3.411870\n",
       "14313    3.783854\n",
       "15124    3.724238\n",
       "15205    3.442166\n",
       "16242    3.454411\n",
       "16377    4.306941\n",
       "1905     4.153908\n",
       "5317     3.361267\n",
       "6287     3.905047\n",
       "Name: rating, dtype: float64"
      ]
     },
     "execution_count": 35,
     "metadata": {},
     "output_type": "execute_result"
    }
   ],
   "source": [
    "df_top10.groupby('movie_id').mean()['rating']"
   ]
  },
  {
   "cell_type": "code",
   "execution_count": 36,
   "metadata": {},
   "outputs": [
    {
     "data": {
      "text/plain": [
       "movie_id\n",
       "11283    0.816840\n",
       "12470    1.132944\n",
       "14313    1.203312\n",
       "15124    1.079766\n",
       "15205    1.208468\n",
       "16242    1.124582\n",
       "16377    0.736108\n",
       "1905     0.822837\n",
       "5317     1.235790\n",
       "6287     1.056821\n",
       "Name: rating, dtype: float64"
      ]
     },
     "execution_count": 36,
     "metadata": {},
     "output_type": "execute_result"
    }
   ],
   "source": [
    "df_top10.groupby('movie_id').var()['rating']"
   ]
  },
  {
   "cell_type": "code",
   "execution_count": 37,
   "metadata": {
    "scrolled": true
   },
   "outputs": [
    {
     "data": {
      "image/png": "[encoded data removed]",
      "text/plain": [
       "<Figure size 1440x720 with 10 Axes>"
      ]
     },
     "metadata": {
      "needs_background": "light"
     },
     "output_type": "display_data"
    }
   ],
   "source": [
    "top10_hist = df_top10.hist(column = 'rating', by = 'movie_id', figsize = (20,10), layout = (2,5))\n",
    "plt.show()"
   ]
  },
  {
   "cell_type": "markdown",
   "metadata": {},
   "source": [
    "Among the 10 most popular movies (received most ratings), ratings on movies 11283, 16377, and 1905 have the highest mean and lowest variance. Users had mixed attitudes towards the other 7 movies."
   ]
  },
  {
   "cell_type": "code",
   "execution_count": 39,
   "metadata": {},
   "outputs": [],
   "source": [
    "unpopular_movies = movies_by_rating_cnt[movies_by_rating_cnt['rating_count'] <= 200]['movie_id'].values"
   ]
  },
  {
   "cell_type": "code",
   "execution_count": 41,
   "metadata": {},
   "outputs": [
    {
     "data": {
      "text/plain": [
       "4693"
      ]
     },
     "execution_count": 41,
     "metadata": {},
     "output_type": "execute_result"
    }
   ],
   "source": [
    "len(unpopular_movies)"
   ]
  },
  {
   "cell_type": "code",
   "execution_count": 40,
   "metadata": {},
   "outputs": [],
   "source": [
    "df_unpopular = df[df['movie_id'].isin(unpopular_movies)]"
   ]
  },
  {
   "cell_type": "code",
   "execution_count": 48,
   "metadata": {},
   "outputs": [
    {
     "data": {
      "text/plain": [
       "array([[<AxesSubplot:title={'center':'rating'}>]], dtype=object)"
      ]
     },
     "execution_count": 48,
     "metadata": {},
     "output_type": "execute_result"
    },
    {
     "data": {
      "image/png": "[encoded data removed]",
      "text/plain": [
       "<Figure size 432x288 with 1 Axes>"
      ]
     },
     "metadata": {
      "needs_background": "light"
     },
     "output_type": "display_data"
    }
   ],
   "source": [
    "df_unpopular.hist(column = 'rating')"
   ]
  },
  {
   "cell_type": "markdown",
   "metadata": {},
   "source": [
    "Among those movies which received no more than 200 ratings, many received mediocre ratings. There are more lower ratings (1 and 2) than higher ratings (4 and 5). A lot of variability in ratings for those movies. "
   ]
  },
  {
   "cell_type": "code",
   "execution_count": 50,
   "metadata": {},
   "outputs": [],
   "source": [
    "users_w_few_ratings = users_by_rating_cnt[users_by_rating_cnt['rating_count']<=50]['user_id'].values"
   ]
  },
  {
   "cell_type": "code",
   "execution_count": 51,
   "metadata": {},
   "outputs": [
    {
     "data": {
      "text/plain": [
       "array(['100000', '1000004', '1000038', ..., '999921', '999936', '99994'],\n",
       "      dtype=object)"
      ]
     },
     "execution_count": 51,
     "metadata": {},
     "output_type": "execute_result"
    }
   ],
   "source": [
    "users_w_few_ratings"
   ]
  },
  {
   "cell_type": "code",
   "execution_count": 52,
   "metadata": {},
   "outputs": [
    {
     "data": {
      "text/plain": [
       "155718"
      ]
     },
     "execution_count": 52,
     "metadata": {},
     "output_type": "execute_result"
    }
   ],
   "source": [
    "len(users_w_few_ratings)"
   ]
  },
  {
   "cell_type": "code",
   "execution_count": 53,
   "metadata": {},
   "outputs": [],
   "source": [
    "df_users_w_few_ratings = df[df['user_id'].isin(users_w_few_ratings)]"
   ]
  },
  {
   "cell_type": "code",
   "execution_count": 54,
   "metadata": {},
   "outputs": [
    {
     "name": "stdout",
     "output_type": "stream",
     "text": [
      "     user_id  rating movie_id\n",
      "23   2165002     4.0        1\n",
      "39   2421815     2.0        1\n",
      "86   2477242     5.0        1\n",
      "94   1245406     4.0        1\n",
      "135   317050     5.0        1\n",
      "(4167501, 3)\n"
     ]
    }
   ],
   "source": [
    "print(df_users_w_few_ratings.head())\n",
    "print(df_users_w_few_ratings.shape)"
   ]
  },
  {
   "cell_type": "markdown",
   "metadata": {},
   "source": [
    "First, look at the distribution of ratings across those users who rated <=50 movies."
   ]
  },
  {
   "cell_type": "code",
   "execution_count": 55,
   "metadata": {},
   "outputs": [
    {
     "data": {
      "text/plain": [
       "array([[<AxesSubplot:title={'center':'rating'}>]], dtype=object)"
      ]
     },
     "execution_count": 55,
     "metadata": {},
     "output_type": "execute_result"
    },
    {
     "data": {
      "image/png": "[encoded data removed]",
      "text/plain": [
       "<Figure size 432x288 with 1 Axes>"
      ]
     },
     "metadata": {
      "needs_background": "light"
     },
     "output_type": "display_data"
    }
   ],
   "source": [
    "df_users_w_few_ratings.hist(column = 'rating')"
   ]
  },
  {
   "cell_type": "markdown",
   "metadata": {},
   "source": [
    "The distribution is left skewed. Users who made few ratings (<=50) tend to give higher ratings."
   ]
  },
  {
   "cell_type": "markdown",
   "metadata": {},
   "source": [
    "Let's investigate the distribution from the individual level."
   ]
  },
  {
   "cell_type": "code",
   "execution_count": 56,
   "metadata": {},
   "outputs": [
    {
     "data": {
      "text/plain": [
       "<AxesSubplot:>"
      ]
     },
     "execution_count": 56,
     "metadata": {},
     "output_type": "execute_result"
    },
    {
     "data": {
      "image/png": "[encoded data removed]",
      "text/plain": [
       "<Figure size 432x288 with 1 Axes>"
      ]
     },
     "metadata": {
      "needs_background": "light"
     },
     "output_type": "display_data"
    }
   ],
   "source": [
    "df_users_w_few_ratings.groupby('user_id').mean()['rating'].hist(bins=50)"
   ]
  },
  {
   "cell_type": "code",
   "execution_count": 57,
   "metadata": {},
   "outputs": [
    {
     "data": {
      "text/plain": [
       "<AxesSubplot:>"
      ]
     },
     "execution_count": 57,
     "metadata": {},
     "output_type": "execute_result"
    },
    {
     "data": {
      "image/png": "[encoded data removed]",
      "text/plain": [
       "<Figure size 432x288 with 1 Axes>"
      ]
     },
     "metadata": {
      "needs_background": "light"
     },
     "output_type": "display_data"
    }
   ],
   "source": [
    "df_users_w_few_ratings.groupby('user_id').median()['rating'].hist()"
   ]
  },
  {
   "cell_type": "markdown",
   "metadata": {},
   "source": [
    "Both the mean and the median ratings of each user are on the high end of the spectrum: the means peak around 3.75 while the medians peak at 4. Very few users gave low ratings of 1 or 2."
   ]
  },
  {
   "cell_type": "code",
   "execution_count": 58,
   "metadata": {},
   "outputs": [],
   "source": [
    "users_w_many_ratings = users_by_rating_cnt[users_by_rating_cnt['rating_count']>=1000]['user_id'].values"
   ]
  },
  {
   "cell_type": "code",
   "execution_count": 59,
   "metadata": {},
   "outputs": [
    {
     "data": {
      "text/plain": [
       "array(['1000192', '1000301', '1000387', ..., '99939', '999410', '999504'],\n",
       "      dtype=object)"
      ]
     },
     "execution_count": 59,
     "metadata": {},
     "output_type": "execute_result"
    }
   ],
   "source": [
    "users_w_many_ratings"
   ]
  },
  {
   "cell_type": "code",
   "execution_count": 60,
   "metadata": {},
   "outputs": [],
   "source": [
    "df_users_w_many_ratings = df[df['user_id'].isin(users_w_many_ratings)]"
   ]
  },
  {
   "cell_type": "code",
   "execution_count": 61,
   "metadata": {},
   "outputs": [
    {
     "name": "stdout",
     "output_type": "stream",
     "text": [
      "(18786256, 3)\n",
      "    user_id  rating movie_id\n",
      "0   1488844     3.0        1\n",
      "3     30878     4.0        1\n",
      "7   1248029     3.0        1\n",
      "19   372233     5.0        1\n",
      "20  1080361     3.0        1\n"
     ]
    }
   ],
   "source": [
    "print(df_users_w_many_ratings.shape)\n",
    "print(df_users_w_many_ratings.head())"
   ]
  },
  {
   "cell_type": "markdown",
   "metadata": {},
   "source": [
    "First, look at the distribution of ratings across those users who rated >=1000 movies."
   ]
  },
  {
   "cell_type": "code",
   "execution_count": 62,
   "metadata": {},
   "outputs": [
    {
     "data": {
      "text/plain": [
       "array([[<AxesSubplot:title={'center':'rating'}>]], dtype=object)"
      ]
     },
     "execution_count": 62,
     "metadata": {},
     "output_type": "execute_result"
    },
    {
     "data": {
      "image/png": "[encoded data removed]",
      "text/plain": [
       "<Figure size 432x288 with 1 Axes>"
      ]
     },
     "metadata": {
      "needs_background": "light"
     },
     "output_type": "display_data"
    }
   ],
   "source": [
    "df_users_w_many_ratings.hist(column = 'rating')"
   ]
  },
  {
   "cell_type": "markdown",
   "metadata": {},
   "source": [
    "The distribution is left skewed. However, unlike the distribution for users who rated <=50 movies, the distribution for users who rated >=1000 movies peaks at 3. User who rated many movies generally gave lower ratings than those who rated few."
   ]
  },
  {
   "cell_type": "markdown",
   "metadata": {},
   "source": [
    "Let's take a look at the distribution of ratings from an individual level."
   ]
  },
  {
   "cell_type": "code",
   "execution_count": 63,
   "metadata": {},
   "outputs": [
    {
     "data": {
      "text/plain": [
       "<AxesSubplot:>"
      ]
     },
     "execution_count": 63,
     "metadata": {},
     "output_type": "execute_result"
    },
    {
     "data": {
      "image/png": "[encoded data removed]",
      "text/plain": [
       "<Figure size 432x288 with 1 Axes>"
      ]
     },
     "metadata": {
      "needs_background": "light"
     },
     "output_type": "display_data"
    }
   ],
   "source": [
    "df_users_w_many_ratings.groupby('user_id').mean()['rating'].hist(bins = 50)"
   ]
  },
  {
   "cell_type": "markdown",
   "metadata": {},
   "source": [
    "The distribution of the mean rating by each user looks like a normal distribution with the mean slightly below 3.5. "
   ]
  },
  {
   "cell_type": "code",
   "execution_count": 64,
   "metadata": {},
   "outputs": [
    {
     "data": {
      "text/plain": [
       "<AxesSubplot:>"
      ]
     },
     "execution_count": 64,
     "metadata": {},
     "output_type": "execute_result"
    },
    {
     "data": {
      "image/png": "[encoded data removed]",
      "text/plain": [
       "<Figure size 432x288 with 1 Axes>"
      ]
     },
     "metadata": {
      "needs_background": "light"
     },
     "output_type": "display_data"
    }
   ],
   "source": [
    "df_users_w_many_ratings.groupby('user_id').median()['rating'].hist()"
   ]
  },
  {
   "cell_type": "markdown",
   "metadata": {},
   "source": [
    "The distribution of the median ratings are concentrated at 3 and 4, with very few low (1 and 2) and very high (5) ratings. \n",
    "So users who rated many movies tend to give lower ratings than those who rated few movies. "
   ]
  },
  {
   "cell_type": "markdown",
   "metadata": {},
   "source": [
    "## Try filtering out users who rated <=50 movies & movies which received <= 200 ratings"
   ]
  },
  {
   "cell_type": "code",
   "execution_count": 65,
   "metadata": {},
   "outputs": [],
   "source": [
    "df_filtered = df[(~df['user_id'].isin(users_w_few_ratings)) & (~df['movie_id'].isin(unpopular_movies))]"
   ]
  },
  {
   "cell_type": "code",
   "execution_count": 67,
   "metadata": {},
   "outputs": [
    {
     "data": {
      "text/plain": [
       "(95726056, 3)"
      ]
     },
     "execution_count": 67,
     "metadata": {},
     "output_type": "execute_result"
    }
   ],
   "source": [
    "df_filtered.shape"
   ]
  },
  {
   "cell_type": "code",
   "execution_count": 69,
   "metadata": {},
   "outputs": [
    {
     "data": {
      "text/plain": [
       "0"
      ]
     },
     "execution_count": 69,
     "metadata": {},
     "output_type": "execute_result"
    }
   ],
   "source": [
    "df_filtered['user_id'].isin(users_w_few_ratings).sum()"
   ]
  },
  {
   "cell_type": "code",
   "execution_count": 72,
   "metadata": {},
   "outputs": [
    {
     "data": {
      "text/plain": [
       "0"
      ]
     },
     "execution_count": 72,
     "metadata": {},
     "output_type": "execute_result"
    }
   ],
   "source": [
    "df_filtered['movie_id'].isin(unpopular_movies).sum()"
   ]
  },
  {
   "cell_type": "code",
   "execution_count": 73,
   "metadata": {},
   "outputs": [
    {
     "name": "stdout",
     "output_type": "stream",
     "text": [
      "<class 'pandas.core.frame.DataFrame'>\n",
      "Int64Index: 95726056 entries, 0 to 100480506\n",
      "Data columns (total 3 columns):\n",
      " #   Column    Dtype  \n",
      "---  ------    -----  \n",
      " 0   user_id   object \n",
      " 1   rating    float64\n",
      " 2   movie_id  object \n",
      "dtypes: float64(1), object(2)\n",
      "memory usage: 2.9+ GB\n"
     ]
    }
   ],
   "source": [
    "df_filtered.info()"
   ]
  },
  {
   "cell_type": "code",
   "execution_count": 74,
   "metadata": {},
   "outputs": [
    {
     "data": {
      "text/html": [
       "<div>\n",
       "<style scoped>\n",
       "    .dataframe tbody tr th:only-of-type {\n",
       "        vertical-align: middle;\n",
       "    }\n",
       "\n",
       "    .dataframe tbody tr th {\n",
       "        vertical-align: top;\n",
       "    }\n",
       "\n",
       "    .dataframe thead th {\n",
       "        text-align: right;\n",
       "    }\n",
       "</style>\n",
       "<table border=\"1\" class=\"dataframe\">\n",
       "  <thead>\n",
       "    <tr style=\"text-align: right;\">\n",
       "      <th></th>\n",
       "      <th>user_id</th>\n",
       "      <th>rating</th>\n",
       "      <th>movie_id</th>\n",
       "    </tr>\n",
       "  </thead>\n",
       "  <tbody>\n",
       "    <tr>\n",
       "      <th>0</th>\n",
       "      <td>1488844</td>\n",
       "      <td>3.0</td>\n",
       "      <td>1</td>\n",
       "    </tr>\n",
       "    <tr>\n",
       "      <th>1</th>\n",
       "      <td>822109</td>\n",
       "      <td>5.0</td>\n",
       "      <td>1</td>\n",
       "    </tr>\n",
       "    <tr>\n",
       "      <th>2</th>\n",
       "      <td>885013</td>\n",
       "      <td>4.0</td>\n",
       "      <td>1</td>\n",
       "    </tr>\n",
       "    <tr>\n",
       "      <th>3</th>\n",
       "      <td>30878</td>\n",
       "      <td>4.0</td>\n",
       "      <td>1</td>\n",
       "    </tr>\n",
       "    <tr>\n",
       "      <th>4</th>\n",
       "      <td>823519</td>\n",
       "      <td>3.0</td>\n",
       "      <td>1</td>\n",
       "    </tr>\n",
       "    <tr>\n",
       "      <th>...</th>\n",
       "      <td>...</td>\n",
       "      <td>...</td>\n",
       "      <td>...</td>\n",
       "    </tr>\n",
       "    <tr>\n",
       "      <th>95726051</th>\n",
       "      <td>1790158</td>\n",
       "      <td>4.0</td>\n",
       "      <td>17770</td>\n",
       "    </tr>\n",
       "    <tr>\n",
       "      <th>95726052</th>\n",
       "      <td>1608708</td>\n",
       "      <td>3.0</td>\n",
       "      <td>17770</td>\n",
       "    </tr>\n",
       "    <tr>\n",
       "      <th>95726053</th>\n",
       "      <td>234275</td>\n",
       "      <td>1.0</td>\n",
       "      <td>17770</td>\n",
       "    </tr>\n",
       "    <tr>\n",
       "      <th>95726054</th>\n",
       "      <td>255278</td>\n",
       "      <td>4.0</td>\n",
       "      <td>17770</td>\n",
       "    </tr>\n",
       "    <tr>\n",
       "      <th>95726055</th>\n",
       "      <td>453585</td>\n",
       "      <td>2.0</td>\n",
       "      <td>17770</td>\n",
       "    </tr>\n",
       "  </tbody>\n",
       "</table>\n",
       "<p>95726056 rows × 3 columns</p>\n",
       "</div>"
      ],
      "text/plain": [
       "          user_id  rating movie_id\n",
       "0         1488844     3.0        1\n",
       "1          822109     5.0        1\n",
       "2          885013     4.0        1\n",
       "3           30878     4.0        1\n",
       "4          823519     3.0        1\n",
       "...           ...     ...      ...\n",
       "95726051  1790158     4.0    17770\n",
       "95726052  1608708     3.0    17770\n",
       "95726053   234275     1.0    17770\n",
       "95726054   255278     4.0    17770\n",
       "95726055   453585     2.0    17770\n",
       "\n",
       "[95726056 rows x 3 columns]"
      ]
     },
     "execution_count": 74,
     "metadata": {},
     "output_type": "execute_result"
    }
   ],
   "source": [
    "df_filtered.reset_index(drop=True)"
   ]
  },
  {
   "cell_type": "code",
   "execution_count": 75,
   "metadata": {},
   "outputs": [
    {
     "name": "stdout",
     "output_type": "stream",
     "text": [
      "<class 'pandas.core.frame.DataFrame'>\n",
      "Int64Index: 95726056 entries, 0 to 100480506\n",
      "Data columns (total 3 columns):\n",
      " #   Column    Dtype  \n",
      "---  ------    -----  \n",
      " 0   user_id   object \n",
      " 1   rating    float64\n",
      " 2   movie_id  object \n",
      "dtypes: float64(1), object(2)\n",
      "memory usage: 2.9+ GB\n"
     ]
    }
   ],
   "source": [
    "df_filtered.info()"
   ]
  },
  {
   "cell_type": "code",
   "execution_count": 76,
   "metadata": {},
   "outputs": [],
   "source": [
    "df_filtered.to_csv('filtered_data.txt')"
   ]
  },
  {
   "cell_type": "code",
   "execution_count": null,
   "metadata": {},
   "outputs": [],
   "source": []
  }
 ],
 "metadata": {
  "colab": {
   "collapsed_sections": [],
   "provenance": [
    {
     "file_id": "1y42P8CwzSI4yt_uC83cmXVUcUA9F8_3I",
     "timestamp": 1667077980859
    }
   ]
  },
  "kernelspec": {
   "display_name": "Python 3 (ipykernel)",
   "language": "python",
   "name": "python3"
  },
  "language_info": {
   "codemirror_mode": {
    "name": "ipython",
    "version": 3
   },
   "file_extension": ".py",
   "mimetype": "text/x-python",
   "name": "python",
   "nbconvert_exporter": "python",
   "pygments_lexer": "ipython3",
   "version": "3.9.7"
  }
 },
 "nbformat": 4,
 "nbformat_minor": 1
}
